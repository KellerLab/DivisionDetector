{
 "cells": [
  {
   "cell_type": "code",
   "execution_count": 183,
   "metadata": {
    "collapsed": false
   },
   "outputs": [
    {
     "name": "stdout",
     "output_type": "stream",
     "text": [
      "Adding dataset setup01/snapshots/snapshot_1.hdf/volumes/divisions as 1\n",
      "Adding dataset setup01/snapshots/snapshot_1.hdf/volumes/gradient as 2\n",
      "Adding dataset setup01/snapshots/snapshot_1.hdf/volumes/loss_weights as 3\n",
      "Adding dataset setup01/snapshots/snapshot_1.hdf/volumes/prediction as 4\n",
      "Adding dataset setup01/snapshots/snapshot_1.hdf/volumes/raw as 5\n"
     ]
    },
    {
     "data": {
      "text/html": [
       "<iframe src=\"http://slowpoke1:8888/neuroglancer#!%7B%22layers%22:%7B%221%22:%7B%22source%22:%22python://http://slowpoke1:8888/91b119f526382c21fc80cfa8342b2888e513225e%22,%22type%22:%22image%22%7D,%222%22:%7B%22source%22:%22python://http://slowpoke1:8888/b041a42bd2ecfa4718cca28de2bf27d03f9f9865%22,%22type%22:%22image%22%7D,%223%22:%7B%22source%22:%22python://http://slowpoke1:8888/eeb167ce5bb924b25b0e440745106c42430e6de3%22,%22type%22:%22image%22%7D,%224%22:%7B%22source%22:%22python://http://slowpoke1:8888/83850c9917bedf41590eb9b3eca0803b95394aa6%22,%22type%22:%22image%22%7D,%225%22:%7B%22source%22:%22python://http://slowpoke1:8888/a4de6a6f83f04b0d173a4bbf82ee85fff71ca862%22,%22type%22:%22image%22%7D%7D%7D\" width=\"100%\" height=\"1024px\"><\\iframe>"
      ],
      "text/plain": [
       "<IPython.core.display.HTML object>"
      ]
     },
     "execution_count": 183,
     "metadata": {},
     "output_type": "execute_result"
    }
   ],
   "source": [
    "import nyroglancer\n",
    "\n",
    "snapshot = 'setup01/snapshots/snapshot_1.hdf'\n",
    "\n",
    "viewer = nyroglancer.Hdf5Viewer(snapshot, show_layer_numbers=True)\n",
    "viewer.set_hostname('slowpoke1:8888')\n",
    "viewer.show()"
   ]
  }
 ],
 "metadata": {
  "kernelspec": {
   "display_name": "Python 2",
   "language": "python",
   "name": "python2"
  },
  "language_info": {
   "codemirror_mode": {
    "name": "ipython",
    "version": 2
   },
   "file_extension": ".py",
   "mimetype": "text/x-python",
   "name": "python",
   "nbconvert_exporter": "python",
   "pygments_lexer": "ipython2",
   "version": "2.7.13"
  }
 },
 "nbformat": 4,
 "nbformat_minor": 2
}
