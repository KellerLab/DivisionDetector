{
 "cells": [
  {
   "cell_type": "code",
   "execution_count": 1,
   "metadata": {},
   "outputs": [
    {
     "name": "stdout",
     "output_type": "stream",
     "text": [
      "Adding dataset setup01/snapshots/00000004.hdf/volumes/divisions as 1\n",
      "Adding dataset setup01/snapshots/00000004.hdf/volumes/raw as 2\n"
     ]
    },
    {
     "name": "stderr",
     "output_type": "stream",
     "text": [
      "/home/jan/.local/lib/python2.7/site-packages/h5py/__init__.py:36: FutureWarning: Conversion of the second argument of issubdtype from `float` to `np.floating` is deprecated. In future, it will be treated as `np.float64 == np.dtype(float).type`.\n",
      "  from ._conv import register_converters as _register_converters\n"
     ]
    },
    {
     "data": {
      "text/html": [
       "<iframe src=\"http://localhost:8889/neuroglancer#!%7B%22layers%22:%7B%221%22:%7B%22source%22:%22python://http://localhost:8889/6ee0914f914cbb51088831f6a48849baaf8a4add%22,%22type%22:%22image%22%7D,%222%22:%7B%22source%22:%22python://http://localhost:8889/912080e84347a4be068462e1c081abb96dd34078%22,%22type%22:%22image%22%7D%7D%7D\" width=\"100%\" height=\"1024px\"><\\iframe>"
      ],
      "text/plain": [
       "<IPython.core.display.HTML object>"
      ]
     },
     "execution_count": 1,
     "metadata": {},
     "output_type": "execute_result"
    }
   ],
   "source": [
    "import nyroglancer\n",
    "\n",
    "snapshot = 'setup01/snapshots/00000004.hdf'\n",
    "\n",
    "viewer = nyroglancer.Hdf5Viewer(snapshot, show_layer_numbers=True)\n",
    "viewer.set_hostname('localhost:8889')\n",
    "viewer.show()"
   ]
  }
 ],
 "metadata": {
  "kernelspec": {
   "display_name": "Python 2",
   "language": "python",
   "name": "python2"
  },
  "language_info": {
   "codemirror_mode": {
    "name": "ipython",
    "version": 2
   },
   "file_extension": ".py",
   "mimetype": "text/x-python",
   "name": "python",
   "nbconvert_exporter": "python",
   "pygments_lexer": "ipython2",
   "version": "2.7.13"
  }
 },
 "nbformat": 4,
 "nbformat_minor": 2
}
